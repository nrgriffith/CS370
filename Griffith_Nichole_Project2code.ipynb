{
 "cells": [
  {
   "cell_type": "markdown",
   "metadata": {},
   "source": [
    "# Treasure Hunt Game Notebook\n",
    "\n",
    "## Read and Review Your Starter Code\n",
    "The theme of this project is a popular treasure hunt game in which the player needs to find the treasure before the pirate does. While you will not be developing the entire game, you will write the part of the game that represents the intelligent agent, which is a pirate in this case. The pirate will try to find the optimal path to the treasure using deep Q-learning. \n",
    "\n",
    "You have been provided with two Python classes and this notebook to help you with this assignment. The first class, TreasureMaze.py, represents the environment, which includes a maze object defined as a matrix. The second class, GameExperience.py, stores the episodes – that is, all the states that come in between the initial state and the terminal state. This is later used by the agent for learning by experience, called \"exploration\". This notebook shows how to play a game. Your task is to complete the deep Q-learning implementation for which a skeleton implementation has been provided. The code blocks you will need to complete has #TODO as a header.\n",
    "\n",
    "First, read and review the next few code and instruction blocks to understand the code that you have been given."
   ]
  },
  {
   "cell_type": "code",
   "execution_count": 141,
   "metadata": {},
   "outputs": [],
   "source": [
    "from __future__ import print_function\n",
    "import os, sys, time, datetime, json, random\n",
    "import numpy as np\n",
    "from keras.models import Sequential\n",
    "from keras.layers.core import Dense, Activation\n",
    "from keras.optimizers import SGD , Adam, RMSprop\n",
    "from keras.layers.advanced_activations import PReLU\n",
    "import matplotlib.pyplot as plt\n",
    "from TreasureMaze import TreasureMaze\n",
    "from GameExperience import GameExperience\n",
    "%matplotlib inline"
   ]
  },
  {
   "cell_type": "markdown",
   "metadata": {},
   "source": [
    "The following code block contains an 8x8 matrix that will be used as a maze object:"
   ]
  },
  {
   "cell_type": "code",
   "execution_count": 142,
   "metadata": {},
   "outputs": [],
   "source": [
    "maze = np.array([\n",
    "    [ 1.,  0.,  1.,  1.,  1.,  1.,  1.,  1.],\n",
    "    [ 1.,  0.,  1.,  1.,  1.,  0.,  1.,  1.],\n",
    "    [ 1.,  1.,  1.,  1.,  0.,  1.,  0.,  1.],\n",
    "    [ 1.,  1.,  1.,  0.,  1.,  1.,  1.,  1.],\n",
    "    [ 1.,  1.,  0.,  1.,  1.,  1.,  1.,  1.],\n",
    "    [ 1.,  1.,  1.,  0.,  1.,  0.,  0.,  0.],\n",
    "    [ 1.,  1.,  1.,  0.,  1.,  1.,  1.,  1.],\n",
    "    [ 1.,  1.,  1.,  1.,  0.,  1.,  1.,  1.]\n",
    "])"
   ]
  },
  {
   "cell_type": "markdown",
   "metadata": {},
   "source": [
    "This helper function allows a visual representation of the maze object:"
   ]
  },
  {
   "cell_type": "code",
   "execution_count": 143,
   "metadata": {},
   "outputs": [],
   "source": [
    "def show(qmaze):\n",
    "    plt.grid('on')\n",
    "    nrows, ncols = qmaze.maze.shape\n",
    "    ax = plt.gca()\n",
    "    ax.set_xticks(np.arange(0.5, nrows, 1))\n",
    "    ax.set_yticks(np.arange(0.5, ncols, 1))\n",
    "    ax.set_xticklabels([])\n",
    "    ax.set_yticklabels([])\n",
    "    canvas = np.copy(qmaze.maze)\n",
    "    for row,col in qmaze.visited:\n",
    "        canvas[row,col] = 0.6\n",
    "    pirate_row, pirate_col, _ = qmaze.state\n",
    "    canvas[pirate_row, pirate_col] = 0.3   # pirate cell\n",
    "    canvas[nrows-1, ncols-1] = 0.9 # treasure cell\n",
    "    img = plt.imshow(canvas, interpolation='none', cmap='gray')\n",
    "    return img"
   ]
  },
  {
   "cell_type": "markdown",
   "metadata": {},
   "source": [
    "The pirate agent can move in four directions: left, right, up, and down. \n",
    "\n",
    "While the agent primarily learns by experience through exploitation, often, the agent can choose to explore the environment to find previously undiscovered paths. This is called \"exploration\" and is defined by epsilon. This value is typically a lower value such as 0.1, which means for every ten attempts, the agent will attempt to learn by experience nine times and will randomly explore a new path one time. You are encouraged to try various values for the exploration factor and see how the algorithm performs."
   ]
  },
  {
   "cell_type": "code",
   "execution_count": 144,
   "metadata": {},
   "outputs": [],
   "source": [
    "LEFT = 0\n",
    "UP = 1\n",
    "RIGHT = 2\n",
    "DOWN = 3\n",
    "\n",
    "\n",
    "# Exploration factor\n",
    "epsilon = 0.1\n",
    "\n",
    "# Actions dictionary\n",
    "actions_dict = {\n",
    "    LEFT: 'left',\n",
    "    UP: 'up',\n",
    "    RIGHT: 'right',\n",
    "    DOWN: 'down',\n",
    "}\n",
    "\n",
    "num_actions = len(actions_dict)\n"
   ]
  },
  {
   "cell_type": "markdown",
   "metadata": {},
   "source": [
    "The sample code block and output below show creating a maze object and performing one action (DOWN), which returns the reward. The resulting updated environment is visualized."
   ]
  },
  {
   "cell_type": "code",
   "execution_count": 145,
   "metadata": {},
   "outputs": [
    {
     "name": "stdout",
     "output_type": "stream",
     "text": [
      "reward= -0.04\n"
     ]
    },
    {
     "data": {
      "text/plain": [
       "<matplotlib.image.AxesImage at 0x2043d1f0308>"
      ]
     },
     "execution_count": 145,
     "metadata": {},
     "output_type": "execute_result"
    },
    {
     "data": {
      "image/png": "[encoded data removed]",
      "text/plain": [
       "<Figure size 432x288 with 1 Axes>"
      ]
     },
     "metadata": {
      "needs_background": "light"
     },
     "output_type": "display_data"
    }
   ],
   "source": [
    "qmaze = TreasureMaze(maze)\n",
    "canvas, reward, game_over = qmaze.act(DOWN)\n",
    "print(\"reward=\", reward)\n",
    "show(qmaze)"
   ]
  },
  {
   "cell_type": "markdown",
   "metadata": {},
   "source": [
    "This function simulates a full game based on the provided trained model. The other parameters include the TreasureMaze object and the starting position of the pirate."
   ]
  },
  {
   "cell_type": "code",
   "execution_count": 146,
   "metadata": {},
   "outputs": [],
   "source": [
    "def play_game(model, qmaze, pirate_cell):\n",
    "    qmaze.reset(pirate_cell)\n",
    "    envstate = qmaze.observe()\n",
    "    while True:\n",
    "        prev_envstate = envstate\n",
    "        # get next action\n",
    "        q = model.predict(prev_envstate)\n",
    "        action = np.argmax(q[0])\n",
    "\n",
    "        # apply action, get rewards and new state\n",
    "        envstate, reward, game_status = qmaze.act(action)\n",
    "        if game_status == 'win':\n",
    "            return True\n",
    "        elif game_status == 'lose':\n",
    "            return False"
   ]
  },
  {
   "cell_type": "markdown",
   "metadata": {},
   "source": [
    "This function helps you to determine whether the pirate can win any game at all. If your maze is not well designed, the pirate may not win any game at all. In this case, your training would not yield any result. The provided maze in this notebook ensures that there is a path to win and you can run this method to check."
   ]
  },
  {
   "cell_type": "code",
   "execution_count": 147,
   "metadata": {},
   "outputs": [],
   "source": [
    "def completion_check(model, qmaze):\n",
    "    for cell in qmaze.free_cells:\n",
    "        if not qmaze.valid_actions(cell):\n",
    "            return False\n",
    "        if not play_game(model, qmaze, cell):\n",
    "            return False\n",
    "    return True"
   ]
  },
  {
   "cell_type": "markdown",
   "metadata": {},
   "source": [
    "The code you have been given in this block will build the neural network model. Review the code and note the number of layers, as well as the activation, optimizer, and loss functions that are used to train the model."
   ]
  },
  {
   "cell_type": "code",
   "execution_count": 148,
   "metadata": {},
   "outputs": [],
   "source": [
    "def build_model(maze):\n",
    "    model = Sequential()\n",
    "    model.add(Dense(maze.size, input_shape=(maze.size,)))\n",
    "    model.add(PReLU())\n",
    "    model.add(Dense(maze.size))\n",
    "    model.add(PReLU())\n",
    "    model.add(Dense(num_actions))\n",
    "    model.compile(optimizer='adam', loss='mse')\n",
    "    return model"
   ]
  },
  {
   "cell_type": "markdown",
   "metadata": {},
   "source": [
    "# #TODO: Complete the Q-Training Algorithm Code Block\n",
    "\n",
    "This is your deep Q-learning implementation. The goal of your deep Q-learning implementation is to find the best possible navigation sequence that results in reaching the treasure cell while maximizing the reward. In your implementation, you need to determine the optimal number of epochs to achieve a 100% win rate.\n",
    "\n",
    "You will need to complete the section starting with #pseudocode. The pseudocode has been included for you."
   ]
  },
  {
   "cell_type": "code",
   "execution_count": 149,
   "metadata": {},
   "outputs": [],
   "source": [
    "def qtrain(model, maze, **opt):\n",
    "\n",
    "    # exploration factor\n",
    "    global epsilon \n",
    "\n",
    "    # number of epochs\n",
    "    n_epoch = opt.get('n_epoch', 15000)\n",
    "\n",
    "    # maximum memory to store episodes\n",
    "    max_memory = opt.get('max_memory', 1000)\n",
    "\n",
    "    # maximum data size for training\n",
    "    data_size = opt.get('data_size', 50)\n",
    "\n",
    "    # start time\n",
    "    start_time = datetime.datetime.now()\n",
    "\n",
    "    # Construct environment/game from numpy array: maze (see above)\n",
    "    qmaze = TreasureMaze(maze)\n",
    "\n",
    "    # Initialize experience replay object\n",
    "    experience = GameExperience(model, max_memory=max_memory)\n",
    "    \n",
    "    win_history = []   # history of win/lose game\n",
    "    hsize = qmaze.maze.size//2   # history window size\n",
    "    win_rate = 0.0\n",
    "    \n",
    "    # pseudocode:\n",
    "    # For each epoch:\n",
    "    for epoch in range(n_epoch):\n",
    "        n_episodes = 0\n",
    "    #    Agent_cell = randomly select a free cell\n",
    "        Agent_cell = random.choice(qmaze.free_cells)\n",
    "        \n",
    "    #    Reset the maze with agent set to above position\n",
    "    #    Hint: Review the reset method in the TreasureMaze.py class.\n",
    "        qmaze.reset(Agent_cell)\n",
    "    \n",
    "    #    envstate = Environment.current_state\n",
    "    #    Hint: Review the observe method in the TreasureMaze.py class.\n",
    "        envstate = qmaze.observe()\n",
    "        \n",
    "    #    While state is not game over:\n",
    "        while qmaze.game_status() == 'not_over':\n",
    "    #        previous_envstate = envstate\n",
    "            previous_envstate = envstate\n",
    "        \n",
    "    #        Action = randomly choose action (left, right, up, down) either by exploration or by exploitation\n",
    "    #        envstate, reward, game_status = qmaze.act(action)\n",
    "    #    Hint: Review the act method in the TreasureMaze.py class.\n",
    "            # get set of valid actions first...\n",
    "            valid_actions = qmaze.valid_actions()\n",
    "            if not valid_actions:\n",
    "                break\n",
    "                \n",
    "            # randomly choose one\n",
    "            if np.random.rand() < epsilon:\n",
    "                action = random.choice(valid_actions)\n",
    "            else:\n",
    "                action = np.argmax(experience.predict(previous_envstate))\n",
    "            \n",
    "            # take action\n",
    "            envstate, reward, game_status = qmaze.act(action)\n",
    "            \n",
    "            # check to see if game is over after action\n",
    "            # if win/lose, record value in win_history and break\n",
    "            if game_status == 'win':\n",
    "                win_history.append(1)\n",
    "                win_rate = sum(win_history)/len(win_history)\n",
    "                break    \n",
    "            elif game_status == 'lose':\n",
    "                win_history.append(0)\n",
    "                win_rate = sum(win_history)/len(win_history)\n",
    "                break\n",
    "\n",
    "                \n",
    "    #        episode = [previous_envstate, action, reward, envstate, game_status]\n",
    "    #        Store episode in Experience replay object\n",
    "    #    Hint: Review the remember method in the GameExperience.py class.\n",
    "            episode = [previous_envstate, action, reward, envstate, game_status]\n",
    "            experience.remember(episode)\n",
    "            n_episodes = n_episodes + 1\n",
    "            \n",
    "    #        Train neural network model and evaluate loss\n",
    "    #    Hint: Call GameExperience.get_data to retrieve training data (input and target) and pass to model.fit method \n",
    "    #          to train the model. You can call model.evaluate to determine loss.\n",
    "            inputs, targets = experience.get_data(data_size = data_size)\n",
    "            history = model.fit(inputs, targets, epochs=8, batch_size=16, verbose = 0)\n",
    "            loss = model.evaluate(inputs, targets, verbose = 0)\n",
    "            \n",
    "    #    If the win rate is above the threshold and your model passes the completion check, that would be your epoch.\n",
    "        if win_rate > epsilon and completion_check(model, qmaze) == True:\n",
    "            print('Model passes')\n",
    "\n",
    "    #Print the epoch, loss, episodes, win count, and win rate for each epoch\n",
    "        dt = datetime.datetime.now() - start_time\n",
    "        t = format_time(dt.total_seconds())\n",
    "        template = \"Epoch: {:03d}/{:d} | Loss: {:.4f} | Episodes: {:d} | Win count: {:d} | Win rate: {:.3f} | time: {}\"\n",
    "        print(template.format(epoch, n_epoch-1, loss, n_episodes, sum(win_history), win_rate, t))\n",
    "        # We simply check if training has exhausted all free cells and if in all\n",
    "        # cases the agent won.\n",
    "        if win_rate > 0.9 : epsilon = 0.05\n",
    "        if sum(win_history[-hsize:]) == hsize and completion_check(model, qmaze):\n",
    "            print(\"Reached 100%% win rate at epoch: %d\" % (epoch,))\n",
    "            break\n",
    "    \n",
    "    \n",
    "    # Determine the total time for training\n",
    "    dt = datetime.datetime.now() - start_time\n",
    "    seconds = dt.total_seconds()\n",
    "    t = format_time(seconds)\n",
    "\n",
    "    print(\"n_epoch: %d, max_mem: %d, data: %d, time: %s\" % (epoch, max_memory, data_size, t))\n",
    "    return seconds\n",
    "\n",
    "# This is a small utility for printing readable time strings:\n",
    "def format_time(seconds):\n",
    "    if seconds < 400:\n",
    "        s = float(seconds)\n",
    "        return \"%.1f seconds\" % (s,)\n",
    "    elif seconds < 4000:\n",
    "        m = seconds / 60.0\n",
    "        return \"%.2f minutes\" % (m,)\n",
    "    else:\n",
    "        h = seconds / 3600.0\n",
    "        return \"%.2f hours\" % (h,)"
   ]
  },
  {
   "cell_type": "markdown",
   "metadata": {},
   "source": [
    "## Test Your Model\n",
    "\n",
    "Now we will start testing the deep Q-learning implementation. To begin, select **Cell**, then **Run All** from the menu bar. This will run your notebook. As it runs, you should see output begin to appear beneath the next few cells. The code below creates an instance of TreasureMaze."
   ]
  },
  {
   "cell_type": "code",
   "execution_count": 150,
   "metadata": {},
   "outputs": [
    {
     "data": {
      "text/plain": [
       "<matplotlib.image.AxesImage at 0x2043e5549c8>"
      ]
     },
     "execution_count": 150,
     "metadata": {},
     "output_type": "execute_result"
    },
    {
     "data": {
      "image/png": "[encoded data removed]",
      "text/plain": [
       "<Figure size 432x288 with 1 Axes>"
      ]
     },
     "metadata": {
      "needs_background": "light"
     },
     "output_type": "display_data"
    }
   ],
   "source": [
    "qmaze = TreasureMaze(maze)\n",
    "show(qmaze)"
   ]
  },
  {
   "cell_type": "markdown",
   "metadata": {},
   "source": [
    "In the next code block, you will build your model and train it using deep Q-learning. Note: This step takes several minutes to fully run."
   ]
  },
  {
   "cell_type": "code",
   "execution_count": 151,
   "metadata": {},
   "outputs": [
    {
     "name": "stdout",
     "output_type": "stream",
     "text": [
      "Epoch: 000/14999 | Loss: 0.0007 | Episodes: 152 | Win count: 0 | Win rate: 0.000 | time: 20.6 seconds\n",
      "Epoch: 001/14999 | Loss: 0.0011 | Episodes: 138 | Win count: 0 | Win rate: 0.000 | time: 41.1 seconds\n",
      "Epoch: 002/14999 | Loss: 0.0005 | Episodes: 140 | Win count: 0 | Win rate: 0.000 | time: 67.6 seconds\n",
      "Epoch: 003/14999 | Loss: 0.0008 | Episodes: 142 | Win count: 0 | Win rate: 0.000 | time: 98.2 seconds\n",
      "Epoch: 004/14999 | Loss: 0.0009 | Episodes: 143 | Win count: 0 | Win rate: 0.000 | time: 129.9 seconds\n",
      "Epoch: 005/14999 | Loss: 0.0006 | Episodes: 143 | Win count: 0 | Win rate: 0.000 | time: 161.5 seconds\n",
      "Epoch: 006/14999 | Loss: 0.0006 | Episodes: 142 | Win count: 0 | Win rate: 0.000 | time: 193.0 seconds\n",
      "Epoch: 007/14999 | Loss: 0.0011 | Episodes: 143 | Win count: 0 | Win rate: 0.000 | time: 225.3 seconds\n",
      "Epoch: 008/14999 | Loss: 0.0010 | Episodes: 143 | Win count: 0 | Win rate: 0.000 | time: 257.4 seconds\n",
      "Epoch: 009/14999 | Loss: 0.0005 | Episodes: 137 | Win count: 0 | Win rate: 0.000 | time: 288.4 seconds\n",
      "Epoch: 010/14999 | Loss: 0.0006 | Episodes: 5 | Win count: 1 | Win rate: 0.091 | time: 289.6 seconds\n",
      "Epoch: 011/14999 | Loss: 0.0005 | Episodes: 138 | Win count: 1 | Win rate: 0.083 | time: 320.9 seconds\n",
      "Epoch: 012/14999 | Loss: 0.0004 | Episodes: 136 | Win count: 1 | Win rate: 0.077 | time: 351.4 seconds\n",
      "Epoch: 013/14999 | Loss: 0.0002 | Episodes: 133 | Win count: 1 | Win rate: 0.071 | time: 381.2 seconds\n",
      "Epoch: 014/14999 | Loss: 0.0003 | Episodes: 139 | Win count: 1 | Win rate: 0.067 | time: 6.88 minutes\n",
      "Epoch: 015/14999 | Loss: 0.0005 | Episodes: 133 | Win count: 1 | Win rate: 0.062 | time: 7.37 minutes\n",
      "Epoch: 016/14999 | Loss: 0.0003 | Episodes: 133 | Win count: 1 | Win rate: 0.059 | time: 7.87 minutes\n",
      "Epoch: 017/14999 | Loss: 0.0007 | Episodes: 107 | Win count: 2 | Win rate: 0.111 | time: 8.26 minutes\n",
      "Epoch: 018/14999 | Loss: 0.0003 | Episodes: 67 | Win count: 3 | Win rate: 0.158 | time: 8.52 minutes\n",
      "Epoch: 019/14999 | Loss: 0.0011 | Episodes: 137 | Win count: 3 | Win rate: 0.150 | time: 9.04 minutes\n",
      "Epoch: 020/14999 | Loss: 0.0008 | Episodes: 50 | Win count: 4 | Win rate: 0.190 | time: 9.22 minutes\n",
      "Epoch: 021/14999 | Loss: 0.0010 | Episodes: 52 | Win count: 5 | Win rate: 0.227 | time: 9.42 minutes\n",
      "Epoch: 022/14999 | Loss: 0.0008 | Episodes: 133 | Win count: 5 | Win rate: 0.217 | time: 9.92 minutes\n",
      "Epoch: 023/14999 | Loss: 0.0004 | Episodes: 135 | Win count: 5 | Win rate: 0.208 | time: 10.44 minutes\n",
      "Epoch: 024/14999 | Loss: 0.0009 | Episodes: 95 | Win count: 6 | Win rate: 0.240 | time: 10.81 minutes\n",
      "Epoch: 025/14999 | Loss: 0.0004 | Episodes: 143 | Win count: 6 | Win rate: 0.231 | time: 11.35 minutes\n",
      "Epoch: 026/14999 | Loss: 0.0009 | Episodes: 136 | Win count: 6 | Win rate: 0.222 | time: 11.91 minutes\n",
      "Epoch: 027/14999 | Loss: 0.0008 | Episodes: 140 | Win count: 6 | Win rate: 0.214 | time: 12.45 minutes\n",
      "Epoch: 028/14999 | Loss: 0.0010 | Episodes: 137 | Win count: 6 | Win rate: 0.207 | time: 12.98 minutes\n",
      "Epoch: 029/14999 | Loss: 0.0012 | Episodes: 138 | Win count: 6 | Win rate: 0.200 | time: 13.50 minutes\n",
      "Epoch: 030/14999 | Loss: 0.0013 | Episodes: 150 | Win count: 6 | Win rate: 0.194 | time: 14.07 minutes\n",
      "Epoch: 031/14999 | Loss: 0.0007 | Episodes: 138 | Win count: 6 | Win rate: 0.188 | time: 14.60 minutes\n",
      "Epoch: 032/14999 | Loss: 0.0007 | Episodes: 3 | Win count: 7 | Win rate: 0.212 | time: 14.61 minutes\n",
      "Epoch: 033/14999 | Loss: 0.0007 | Episodes: 51 | Win count: 8 | Win rate: 0.235 | time: 14.82 minutes\n",
      "Epoch: 034/14999 | Loss: 0.0005 | Episodes: 151 | Win count: 8 | Win rate: 0.229 | time: 15.39 minutes\n",
      "Epoch: 035/14999 | Loss: 0.0006 | Episodes: 46 | Win count: 9 | Win rate: 0.250 | time: 15.56 minutes\n",
      "Epoch: 036/14999 | Loss: 0.0011 | Episodes: 17 | Win count: 10 | Win rate: 0.270 | time: 15.63 minutes\n",
      "Epoch: 037/14999 | Loss: 0.0010 | Episodes: 69 | Win count: 11 | Win rate: 0.289 | time: 15.89 minutes\n",
      "Epoch: 038/14999 | Loss: 0.0014 | Episodes: 46 | Win count: 12 | Win rate: 0.308 | time: 16.07 minutes\n",
      "Epoch: 039/14999 | Loss: 0.0008 | Episodes: 32 | Win count: 13 | Win rate: 0.325 | time: 16.19 minutes\n",
      "Epoch: 040/14999 | Loss: 0.0007 | Episodes: 11 | Win count: 14 | Win rate: 0.341 | time: 16.24 minutes\n",
      "Epoch: 041/14999 | Loss: 0.0008 | Episodes: 43 | Win count: 15 | Win rate: 0.357 | time: 16.40 minutes\n",
      "Epoch: 042/14999 | Loss: 0.0006 | Episodes: 8 | Win count: 16 | Win rate: 0.372 | time: 16.43 minutes\n",
      "Epoch: 043/14999 | Loss: 0.0003 | Episodes: 1 | Win count: 17 | Win rate: 0.386 | time: 16.44 minutes\n",
      "Epoch: 044/14999 | Loss: 0.0003 | Episodes: 0 | Win count: 18 | Win rate: 0.400 | time: 16.44 minutes\n",
      "Epoch: 045/14999 | Loss: 0.0010 | Episodes: 33 | Win count: 19 | Win rate: 0.413 | time: 16.56 minutes\n",
      "Epoch: 046/14999 | Loss: 0.0004 | Episodes: 22 | Win count: 20 | Win rate: 0.426 | time: 16.65 minutes\n",
      "Epoch: 047/14999 | Loss: 0.0005 | Episodes: 28 | Win count: 21 | Win rate: 0.438 | time: 16.76 minutes\n",
      "Epoch: 048/14999 | Loss: 0.0006 | Episodes: 28 | Win count: 22 | Win rate: 0.449 | time: 16.87 minutes\n",
      "Epoch: 049/14999 | Loss: 0.0006 | Episodes: 0 | Win count: 23 | Win rate: 0.460 | time: 16.87 minutes\n",
      "Epoch: 050/14999 | Loss: 0.0015 | Episodes: 8 | Win count: 24 | Win rate: 0.471 | time: 16.91 minutes\n",
      "Epoch: 051/14999 | Loss: 0.0005 | Episodes: 2 | Win count: 25 | Win rate: 0.481 | time: 16.92 minutes\n",
      "Epoch: 052/14999 | Loss: 0.0001 | Episodes: 14 | Win count: 26 | Win rate: 0.491 | time: 16.97 minutes\n",
      "Epoch: 053/14999 | Loss: 0.0002 | Episodes: 26 | Win count: 27 | Win rate: 0.500 | time: 17.07 minutes\n",
      "Epoch: 054/14999 | Loss: 0.0010 | Episodes: 23 | Win count: 28 | Win rate: 0.509 | time: 17.17 minutes\n",
      "Epoch: 055/14999 | Loss: 0.0010 | Episodes: 2 | Win count: 29 | Win rate: 0.518 | time: 17.18 minutes\n",
      "Epoch: 056/14999 | Loss: 0.0007 | Episodes: 21 | Win count: 30 | Win rate: 0.526 | time: 17.26 minutes\n",
      "Epoch: 057/14999 | Loss: 0.0008 | Episodes: 2 | Win count: 31 | Win rate: 0.534 | time: 17.27 minutes\n",
      "Epoch: 058/14999 | Loss: 0.0007 | Episodes: 11 | Win count: 32 | Win rate: 0.542 | time: 17.31 minutes\n",
      "Epoch: 059/14999 | Loss: 0.0005 | Episodes: 21 | Win count: 33 | Win rate: 0.550 | time: 17.39 minutes\n",
      "Epoch: 060/14999 | Loss: 0.0005 | Episodes: 30 | Win count: 34 | Win rate: 0.557 | time: 17.51 minutes\n",
      "Epoch: 061/14999 | Loss: 0.0003 | Episodes: 12 | Win count: 35 | Win rate: 0.565 | time: 17.55 minutes\n",
      "Epoch: 062/14999 | Loss: 0.0007 | Episodes: 95 | Win count: 36 | Win rate: 0.571 | time: 17.92 minutes\n",
      "Epoch: 063/14999 | Loss: 0.0005 | Episodes: 57 | Win count: 37 | Win rate: 0.578 | time: 18.14 minutes\n",
      "Epoch: 064/14999 | Loss: 0.0005 | Episodes: 33 | Win count: 38 | Win rate: 0.585 | time: 18.27 minutes\n",
      "Epoch: 065/14999 | Loss: 0.0007 | Episodes: 35 | Win count: 39 | Win rate: 0.591 | time: 18.41 minutes\n",
      "Epoch: 066/14999 | Loss: 0.0010 | Episodes: 31 | Win count: 40 | Win rate: 0.597 | time: 18.52 minutes\n",
      "Epoch: 067/14999 | Loss: 0.0005 | Episodes: 63 | Win count: 41 | Win rate: 0.603 | time: 18.77 minutes\n",
      "Epoch: 068/14999 | Loss: 0.0010 | Episodes: 76 | Win count: 42 | Win rate: 0.609 | time: 19.07 minutes\n",
      "Epoch: 069/14999 | Loss: 0.0011 | Episodes: 3 | Win count: 43 | Win rate: 0.614 | time: 19.09 minutes\n",
      "Epoch: 070/14999 | Loss: 0.0009 | Episodes: 36 | Win count: 44 | Win rate: 0.620 | time: 19.23 minutes\n",
      "Epoch: 071/14999 | Loss: 0.0009 | Episodes: 0 | Win count: 45 | Win rate: 0.625 | time: 19.24 minutes\n",
      "Epoch: 072/14999 | Loss: 0.0009 | Episodes: 0 | Win count: 46 | Win rate: 0.630 | time: 19.25 minutes\n",
      "Epoch: 073/14999 | Loss: 0.0004 | Episodes: 14 | Win count: 47 | Win rate: 0.635 | time: 19.30 minutes\n",
      "Epoch: 074/14999 | Loss: 0.0008 | Episodes: 4 | Win count: 48 | Win rate: 0.640 | time: 19.33 minutes\n",
      "Epoch: 075/14999 | Loss: 0.0008 | Episodes: 3 | Win count: 49 | Win rate: 0.645 | time: 19.35 minutes\n",
      "Epoch: 076/14999 | Loss: 0.0009 | Episodes: 17 | Win count: 50 | Win rate: 0.649 | time: 19.41 minutes\n",
      "Epoch: 077/14999 | Loss: 0.0011 | Episodes: 36 | Win count: 51 | Win rate: 0.654 | time: 19.56 minutes\n",
      "Epoch: 078/14999 | Loss: 0.0006 | Episodes: 20 | Win count: 52 | Win rate: 0.658 | time: 19.65 minutes\n",
      "Epoch: 079/14999 | Loss: 0.0006 | Episodes: 27 | Win count: 53 | Win rate: 0.662 | time: 19.76 minutes\n"
     ]
    },
    {
     "name": "stdout",
     "output_type": "stream",
     "text": [
      "Epoch: 080/14999 | Loss: 0.0008 | Episodes: 28 | Win count: 54 | Win rate: 0.667 | time: 19.88 minutes\n",
      "Epoch: 081/14999 | Loss: 0.0007 | Episodes: 23 | Win count: 55 | Win rate: 0.671 | time: 19.98 minutes\n",
      "Epoch: 082/14999 | Loss: 0.0009 | Episodes: 29 | Win count: 56 | Win rate: 0.675 | time: 20.10 minutes\n",
      "Epoch: 083/14999 | Loss: 0.0007 | Episodes: 15 | Win count: 57 | Win rate: 0.679 | time: 20.16 minutes\n",
      "Epoch: 084/14999 | Loss: 0.0010 | Episodes: 9 | Win count: 58 | Win rate: 0.682 | time: 20.20 minutes\n",
      "Epoch: 085/14999 | Loss: 0.0008 | Episodes: 44 | Win count: 59 | Win rate: 0.686 | time: 20.31 minutes\n",
      "Epoch: 086/14999 | Loss: 0.0007 | Episodes: 11 | Win count: 60 | Win rate: 0.690 | time: 20.35 minutes\n",
      "Epoch: 087/14999 | Loss: 0.0008 | Episodes: 3 | Win count: 61 | Win rate: 0.693 | time: 20.37 minutes\n",
      "Epoch: 088/14999 | Loss: 0.0006 | Episodes: 35 | Win count: 62 | Win rate: 0.697 | time: 20.49 minutes\n",
      "Epoch: 089/14999 | Loss: 0.0003 | Episodes: 2 | Win count: 63 | Win rate: 0.700 | time: 20.50 minutes\n",
      "Epoch: 090/14999 | Loss: 0.0006 | Episodes: 2 | Win count: 64 | Win rate: 0.703 | time: 20.51 minutes\n",
      "Epoch: 091/14999 | Loss: 0.0011 | Episodes: 25 | Win count: 65 | Win rate: 0.707 | time: 20.58 minutes\n",
      "Epoch: 092/14999 | Loss: 0.0007 | Episodes: 17 | Win count: 66 | Win rate: 0.710 | time: 20.62 minutes\n",
      "Epoch: 093/14999 | Loss: 0.0005 | Episodes: 30 | Win count: 67 | Win rate: 0.713 | time: 20.70 minutes\n",
      "Epoch: 094/14999 | Loss: 0.0007 | Episodes: 5 | Win count: 68 | Win rate: 0.716 | time: 20.72 minutes\n",
      "Epoch: 095/14999 | Loss: 0.0006 | Episodes: 14 | Win count: 69 | Win rate: 0.719 | time: 20.76 minutes\n",
      "Epoch: 096/14999 | Loss: 0.0001 | Episodes: 4 | Win count: 70 | Win rate: 0.722 | time: 20.77 minutes\n",
      "Epoch: 097/14999 | Loss: 0.0007 | Episodes: 30 | Win count: 71 | Win rate: 0.724 | time: 20.86 minutes\n",
      "Epoch: 098/14999 | Loss: 0.0005 | Episodes: 19 | Win count: 72 | Win rate: 0.727 | time: 20.91 minutes\n",
      "Epoch: 099/14999 | Loss: 0.0008 | Episodes: 12 | Win count: 73 | Win rate: 0.730 | time: 20.94 minutes\n",
      "Epoch: 100/14999 | Loss: 0.0008 | Episodes: 1 | Win count: 74 | Win rate: 0.733 | time: 20.95 minutes\n",
      "Epoch: 101/14999 | Loss: 0.0002 | Episodes: 36 | Win count: 75 | Win rate: 0.735 | time: 21.05 minutes\n",
      "Epoch: 102/14999 | Loss: 0.0009 | Episodes: 32 | Win count: 76 | Win rate: 0.738 | time: 21.13 minutes\n",
      "Epoch: 103/14999 | Loss: 0.0001 | Episodes: 34 | Win count: 77 | Win rate: 0.740 | time: 21.23 minutes\n",
      "Epoch: 104/14999 | Loss: 0.0003 | Episodes: 15 | Win count: 78 | Win rate: 0.743 | time: 21.27 minutes\n",
      "Epoch: 105/14999 | Loss: 0.0008 | Episodes: 20 | Win count: 79 | Win rate: 0.745 | time: 21.33 minutes\n",
      "Epoch: 106/14999 | Loss: 0.0007 | Episodes: 23 | Win count: 80 | Win rate: 0.748 | time: 21.40 minutes\n",
      "Epoch: 107/14999 | Loss: 0.0002 | Episodes: 41 | Win count: 81 | Win rate: 0.750 | time: 21.50 minutes\n",
      "Epoch: 108/14999 | Loss: 0.0006 | Episodes: 15 | Win count: 82 | Win rate: 0.752 | time: 21.54 minutes\n",
      "Epoch: 109/14999 | Loss: 0.0004 | Episodes: 19 | Win count: 83 | Win rate: 0.755 | time: 21.60 minutes\n",
      "Epoch: 110/14999 | Loss: 0.0002 | Episodes: 6 | Win count: 84 | Win rate: 0.757 | time: 21.62 minutes\n",
      "Epoch: 111/14999 | Loss: 0.0002 | Episodes: 16 | Win count: 85 | Win rate: 0.759 | time: 21.67 minutes\n",
      "Epoch: 112/14999 | Loss: 0.0001 | Episodes: 27 | Win count: 86 | Win rate: 0.761 | time: 21.74 minutes\n",
      "Epoch: 113/14999 | Loss: 0.0004 | Episodes: 12 | Win count: 87 | Win rate: 0.763 | time: 21.77 minutes\n",
      "Epoch: 114/14999 | Loss: 0.0006 | Episodes: 14 | Win count: 88 | Win rate: 0.765 | time: 21.82 minutes\n",
      "Epoch: 115/14999 | Loss: 0.0009 | Episodes: 15 | Win count: 89 | Win rate: 0.767 | time: 21.86 minutes\n",
      "Epoch: 116/14999 | Loss: 0.0005 | Episodes: 41 | Win count: 90 | Win rate: 0.769 | time: 21.96 minutes\n",
      "Epoch: 117/14999 | Loss: 0.0007 | Episodes: 20 | Win count: 91 | Win rate: 0.771 | time: 22.01 minutes\n",
      "Epoch: 118/14999 | Loss: 0.0003 | Episodes: 18 | Win count: 92 | Win rate: 0.773 | time: 22.05 minutes\n",
      "Epoch: 119/14999 | Loss: 0.0003 | Episodes: 19 | Win count: 93 | Win rate: 0.775 | time: 22.10 minutes\n",
      "Epoch: 120/14999 | Loss: 0.0005 | Episodes: 44 | Win count: 94 | Win rate: 0.777 | time: 22.21 minutes\n",
      "Epoch: 121/14999 | Loss: 0.0004 | Episodes: 17 | Win count: 95 | Win rate: 0.779 | time: 22.26 minutes\n",
      "Epoch: 122/14999 | Loss: 0.0001 | Episodes: 9 | Win count: 96 | Win rate: 0.780 | time: 22.29 minutes\n",
      "Epoch: 123/14999 | Loss: 0.0011 | Episodes: 10 | Win count: 97 | Win rate: 0.782 | time: 22.33 minutes\n",
      "Epoch: 124/14999 | Loss: 0.0001 | Episodes: 9 | Win count: 98 | Win rate: 0.784 | time: 22.36 minutes\n",
      "Epoch: 125/14999 | Loss: 0.0006 | Episodes: 61 | Win count: 99 | Win rate: 0.786 | time: 22.51 minutes\n",
      "Epoch: 126/14999 | Loss: 0.0005 | Episodes: 28 | Win count: 100 | Win rate: 0.787 | time: 22.59 minutes\n",
      "Epoch: 127/14999 | Loss: 0.0008 | Episodes: 21 | Win count: 101 | Win rate: 0.789 | time: 22.66 minutes\n",
      "Epoch: 128/14999 | Loss: 0.0003 | Episodes: 19 | Win count: 102 | Win rate: 0.791 | time: 22.72 minutes\n",
      "Epoch: 129/14999 | Loss: 0.0003 | Episodes: 2 | Win count: 103 | Win rate: 0.792 | time: 22.74 minutes\n",
      "Epoch: 130/14999 | Loss: 0.0005 | Episodes: 10 | Win count: 104 | Win rate: 0.794 | time: 22.76 minutes\n",
      "Epoch: 131/14999 | Loss: 0.0004 | Episodes: 3 | Win count: 105 | Win rate: 0.795 | time: 22.77 minutes\n",
      "Epoch: 132/14999 | Loss: 0.0003 | Episodes: 14 | Win count: 106 | Win rate: 0.797 | time: 22.82 minutes\n",
      "Epoch: 133/14999 | Loss: 0.0004 | Episodes: 13 | Win count: 107 | Win rate: 0.799 | time: 22.86 minutes\n",
      "Epoch: 134/14999 | Loss: 0.0003 | Episodes: 3 | Win count: 108 | Win rate: 0.800 | time: 22.88 minutes\n",
      "Epoch: 135/14999 | Loss: 0.0007 | Episodes: 36 | Win count: 109 | Win rate: 0.801 | time: 22.98 minutes\n",
      "Epoch: 136/14999 | Loss: 0.0006 | Episodes: 25 | Win count: 110 | Win rate: 0.803 | time: 23.04 minutes\n",
      "Epoch: 137/14999 | Loss: 0.0006 | Episodes: 0 | Win count: 111 | Win rate: 0.804 | time: 23.04 minutes\n",
      "Epoch: 138/14999 | Loss: 0.0004 | Episodes: 29 | Win count: 112 | Win rate: 0.806 | time: 23.11 minutes\n",
      "Epoch: 139/14999 | Loss: 0.0009 | Episodes: 19 | Win count: 113 | Win rate: 0.807 | time: 23.17 minutes\n",
      "Epoch: 140/14999 | Loss: 0.0003 | Episodes: 14 | Win count: 114 | Win rate: 0.809 | time: 23.20 minutes\n",
      "Epoch: 141/14999 | Loss: 0.0006 | Episodes: 18 | Win count: 115 | Win rate: 0.810 | time: 23.26 minutes\n",
      "Epoch: 142/14999 | Loss: 0.0009 | Episodes: 43 | Win count: 116 | Win rate: 0.811 | time: 23.38 minutes\n",
      "Epoch: 143/14999 | Loss: 0.0013 | Episodes: 26 | Win count: 117 | Win rate: 0.812 | time: 23.45 minutes\n",
      "Epoch: 144/14999 | Loss: 0.0006 | Episodes: 5 | Win count: 118 | Win rate: 0.814 | time: 23.46 minutes\n",
      "Epoch: 145/14999 | Loss: 0.0006 | Episodes: 8 | Win count: 119 | Win rate: 0.815 | time: 23.49 minutes\n",
      "Epoch: 146/14999 | Loss: 0.0009 | Episodes: 84 | Win count: 120 | Win rate: 0.816 | time: 23.69 minutes\n",
      "Epoch: 147/14999 | Loss: 0.0010 | Episodes: 22 | Win count: 121 | Win rate: 0.818 | time: 23.75 minutes\n",
      "Epoch: 148/14999 | Loss: 0.0012 | Episodes: 2 | Win count: 122 | Win rate: 0.819 | time: 23.76 minutes\n",
      "Epoch: 149/14999 | Loss: 0.0013 | Episodes: 14 | Win count: 123 | Win rate: 0.820 | time: 23.79 minutes\n",
      "Epoch: 150/14999 | Loss: 0.0009 | Episodes: 41 | Win count: 124 | Win rate: 0.821 | time: 23.89 minutes\n",
      "Epoch: 151/14999 | Loss: 0.0014 | Episodes: 3 | Win count: 125 | Win rate: 0.822 | time: 23.90 minutes\n",
      "Epoch: 152/14999 | Loss: 0.0007 | Episodes: 42 | Win count: 126 | Win rate: 0.824 | time: 23.99 minutes\n",
      "Epoch: 153/14999 | Loss: 0.0013 | Episodes: 18 | Win count: 127 | Win rate: 0.825 | time: 24.03 minutes\n",
      "Epoch: 154/14999 | Loss: 0.0006 | Episodes: 42 | Win count: 128 | Win rate: 0.826 | time: 24.13 minutes\n",
      "Epoch: 155/14999 | Loss: 0.0011 | Episodes: 11 | Win count: 129 | Win rate: 0.827 | time: 24.16 minutes\n",
      "Epoch: 156/14999 | Loss: 0.0009 | Episodes: 12 | Win count: 130 | Win rate: 0.828 | time: 24.18 minutes\n",
      "Epoch: 157/14999 | Loss: 0.0012 | Episodes: 64 | Win count: 131 | Win rate: 0.829 | time: 24.33 minutes\n",
      "Epoch: 158/14999 | Loss: 0.0015 | Episodes: 3 | Win count: 132 | Win rate: 0.830 | time: 24.34 minutes\n",
      "Epoch: 159/14999 | Loss: 0.0007 | Episodes: 15 | Win count: 133 | Win rate: 0.831 | time: 24.38 minutes\n"
     ]
    },
    {
     "name": "stdout",
     "output_type": "stream",
     "text": [
      "Epoch: 160/14999 | Loss: 0.0006 | Episodes: 9 | Win count: 134 | Win rate: 0.832 | time: 24.41 minutes\n",
      "Epoch: 161/14999 | Loss: 0.0004 | Episodes: 39 | Win count: 135 | Win rate: 0.833 | time: 24.51 minutes\n",
      "Epoch: 162/14999 | Loss: 0.0010 | Episodes: 39 | Win count: 136 | Win rate: 0.834 | time: 24.59 minutes\n",
      "Epoch: 163/14999 | Loss: 0.0013 | Episodes: 43 | Win count: 137 | Win rate: 0.835 | time: 24.70 minutes\n",
      "Epoch: 164/14999 | Loss: 0.0009 | Episodes: 3 | Win count: 138 | Win rate: 0.836 | time: 24.71 minutes\n",
      "Epoch: 165/14999 | Loss: 0.0009 | Episodes: 22 | Win count: 139 | Win rate: 0.837 | time: 24.76 minutes\n",
      "Epoch: 166/14999 | Loss: 0.0006 | Episodes: 54 | Win count: 140 | Win rate: 0.838 | time: 24.87 minutes\n",
      "Epoch: 167/14999 | Loss: 0.0011 | Episodes: 9 | Win count: 141 | Win rate: 0.839 | time: 24.90 minutes\n",
      "Epoch: 168/14999 | Loss: 0.0016 | Episodes: 14 | Win count: 142 | Win rate: 0.840 | time: 24.93 minutes\n",
      "Epoch: 169/14999 | Loss: 0.0007 | Episodes: 1 | Win count: 143 | Win rate: 0.841 | time: 24.94 minutes\n",
      "Epoch: 170/14999 | Loss: 0.0010 | Episodes: 4 | Win count: 144 | Win rate: 0.842 | time: 24.95 minutes\n",
      "Epoch: 171/14999 | Loss: 0.0008 | Episodes: 5 | Win count: 145 | Win rate: 0.843 | time: 24.97 minutes\n",
      "Epoch: 172/14999 | Loss: 0.0008 | Episodes: 24 | Win count: 146 | Win rate: 0.844 | time: 25.03 minutes\n",
      "Epoch: 173/14999 | Loss: 0.0014 | Episodes: 28 | Win count: 147 | Win rate: 0.845 | time: 25.10 minutes\n",
      "Epoch: 174/14999 | Loss: 0.0009 | Episodes: 25 | Win count: 148 | Win rate: 0.846 | time: 25.16 minutes\n",
      "Epoch: 175/14999 | Loss: 0.0007 | Episodes: 57 | Win count: 149 | Win rate: 0.847 | time: 25.29 minutes\n",
      "Epoch: 176/14999 | Loss: 0.0008 | Episodes: 34 | Win count: 150 | Win rate: 0.847 | time: 25.39 minutes\n",
      "Epoch: 177/14999 | Loss: 0.0003 | Episodes: 9 | Win count: 151 | Win rate: 0.848 | time: 25.42 minutes\n",
      "Epoch: 178/14999 | Loss: 0.0009 | Episodes: 12 | Win count: 152 | Win rate: 0.849 | time: 25.46 minutes\n",
      "Epoch: 179/14999 | Loss: 0.0009 | Episodes: 41 | Win count: 153 | Win rate: 0.850 | time: 25.57 minutes\n",
      "Epoch: 180/14999 | Loss: 0.0007 | Episodes: 13 | Win count: 154 | Win rate: 0.851 | time: 25.60 minutes\n",
      "Epoch: 181/14999 | Loss: 0.0002 | Episodes: 35 | Win count: 155 | Win rate: 0.852 | time: 25.69 minutes\n",
      "Epoch: 182/14999 | Loss: 0.0007 | Episodes: 17 | Win count: 156 | Win rate: 0.852 | time: 25.75 minutes\n",
      "Epoch: 183/14999 | Loss: 0.0003 | Episodes: 7 | Win count: 157 | Win rate: 0.853 | time: 25.78 minutes\n",
      "Model passes\n",
      "Epoch: 184/14999 | Loss: 0.0007 | Episodes: 42 | Win count: 158 | Win rate: 0.854 | time: 25.89 minutes\n",
      "Reached 100% win rate at epoch: 184\n",
      "n_epoch: 184, max_mem: 512, data: 32, time: 25.91 minutes\n"
     ]
    },
    {
     "data": {
      "text/plain": [
       "1554.361395"
      ]
     },
     "execution_count": 151,
     "metadata": {},
     "output_type": "execute_result"
    }
   ],
   "source": [
    "model = build_model(maze)\n",
    "qtrain(model, maze, epochs=1000, max_memory=8*maze.size, data_size=32)"
   ]
  },
  {
   "cell_type": "markdown",
   "metadata": {},
   "source": [
    "This cell will check to see if the model passes the completion check. Note: This could take several minutes."
   ]
  },
  {
   "cell_type": "code",
   "execution_count": 152,
   "metadata": {},
   "outputs": [
    {
     "data": {
      "text/plain": [
       "<matplotlib.image.AxesImage at 0x2043e5c0108>"
      ]
     },
     "execution_count": 152,
     "metadata": {},
     "output_type": "execute_result"
    },
    {
     "data": {
      "image/png": "[encoded data removed]",
      "text/plain": [
       "<Figure size 432x288 with 1 Axes>"
      ]
     },
     "metadata": {
      "needs_background": "light"
     },
     "output_type": "display_data"
    }
   ],
   "source": [
    "completion_check(model, qmaze)\n",
    "show(qmaze)"
   ]
  },
  {
   "cell_type": "markdown",
   "metadata": {},
   "source": [
    "This cell will test your model for one game. It will start the pirate at the top-left corner and run play_game. The agent should find a path from the starting position to the target (treasure). The treasure is located in the bottom-right corner."
   ]
  },
  {
   "cell_type": "code",
   "execution_count": 153,
   "metadata": {},
   "outputs": [
    {
     "data": {
      "text/plain": [
       "<matplotlib.image.AxesImage at 0x2043cf10d48>"
      ]
     },
     "execution_count": 153,
     "metadata": {},
     "output_type": "execute_result"
    },
    {
     "data": {
      "image/png": "[encoded data removed]",
      "text/plain": [
       "<Figure size 432x288 with 1 Axes>"
      ]
     },
     "metadata": {
      "needs_background": "light"
     },
     "output_type": "display_data"
    }
   ],
   "source": [
    "pirate_start = (0, 0)\n",
    "play_game(model, qmaze, pirate_start)\n",
    "show(qmaze)"
   ]
  },
  {
   "cell_type": "markdown",
   "metadata": {},
   "source": [
    "## Save and Submit Your Work\n",
    "After you have finished creating the code for your notebook, save your work. Make sure that your notebook contains your name in the filename (e.g. Doe_Jane_ProjectTwo.ipynb). This will help your instructor access and grade your work easily. Download a copy of your IPYNB file and submit it to Brightspace. Refer to the Jupyter Notebook in Apporto Tutorial if you need help with these tasks."
   ]
  }
 ],
 "metadata": {
  "kernelspec": {
   "display_name": "Python 3",
   "language": "python",
   "name": "python3"
  },
  "language_info": {
   "codemirror_mode": {
    "name": "ipython",
    "version": 3
   },
   "file_extension": ".py",
   "mimetype": "text/x-python",
   "name": "python",
   "nbconvert_exporter": "python",
   "pygments_lexer": "ipython3",
   "version": "3.7.4"
  }
 },
 "nbformat": 4,
 "nbformat_minor": 2
}
